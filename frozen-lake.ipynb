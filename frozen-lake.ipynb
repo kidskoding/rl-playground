{
 "cells": [
  {
   "metadata": {},
   "cell_type": "markdown",
   "source": [
    "# OpenAI Gym RL Environment Demo - Frozen Lake\n",
    "\n",
    "\n",
    "Frozen Lake involves a player navigating a grid world with the goal of reaching the goal state (G) from the start state (S) while avoiding holes/obstacles (H) that come along the way. \n",
    "\n",
    "The player can move in four directions: up, down, left, and right. \n",
    "The player receives a reward of 1 for reaching the goal state and a reward of 0 otherwise."
   ],
   "id": "f1c5cf627e59564"
  },
  {
   "cell_type": "code",
   "id": "initial_id",
   "metadata": {
    "collapsed": true,
    "ExecuteTime": {
     "end_time": "2024-11-14T12:34:12.616986Z",
     "start_time": "2024-11-14T12:34:12.613869Z"
    }
   },
   "source": "import gymnasium as gym",
   "outputs": [],
   "execution_count": 5
  }
 ],
 "metadata": {
  "kernelspec": {
   "display_name": "Python 3",
   "language": "python",
   "name": "python3"
  },
  "language_info": {
   "codemirror_mode": {
    "name": "ipython",
    "version": 2
   },
   "file_extension": ".py",
   "mimetype": "text/x-python",
   "name": "python",
   "nbconvert_exporter": "python",
   "pygments_lexer": "ipython2",
   "version": "2.7.6"
  }
 },
 "nbformat": 4,
 "nbformat_minor": 5
}
